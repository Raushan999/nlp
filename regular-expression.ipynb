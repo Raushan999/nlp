{
 "cells": [
  {
   "cell_type": "code",
   "execution_count": 90,
   "id": "2891c542-7df4-4423-86ab-8eebc77cebad",
   "metadata": {},
   "outputs": [],
   "source": [
    "import numpy as np\n",
    "import pandas as pd"
   ]
  },
  {
   "cell_type": "markdown",
   "id": "3e5a8094-5683-489d-867a-615d62829403",
   "metadata": {},
   "source": [
    "to practice:-  https://regex101.com/"
   ]
  },
  {
   "cell_type": "code",
   "execution_count": 28,
   "id": "99a5bf66-8b43-4efb-9fa3-462da5e77fa7",
   "metadata": {},
   "outputs": [],
   "source": [
    "import re\n",
    "chat1 = 'codebasics: you ask lot of questions 12345678912 aba@gmail.com'\n",
    "chat2 = '(123)-434-4342, aba@gmail.com'\n",
    "chat3 = 'yes, phone: 23231214435, email: a__g4@gmail.com'"
   ]
  },
  {
   "cell_type": "code",
   "execution_count": 29,
   "id": "09d4ac95-880f-47e0-a04e-fdea406609c2",
   "metadata": {},
   "outputs": [
    {
     "data": {
      "text/plain": [
       "['12345678912']"
      ]
     },
     "execution_count": 29,
     "metadata": {},
     "output_type": "execute_result"
    }
   ],
   "source": [
    "re.findall('\\d{11}', chat1) # all the 11 digits together."
   ]
  },
  {
   "cell_type": "code",
   "execution_count": 30,
   "id": "65f72998-b7b9-4190-883a-d05e75208a4d",
   "metadata": {},
   "outputs": [
    {
     "data": {
      "text/plain": [
       "['a__g4@gmail.com']"
      ]
     },
     "execution_count": 30,
     "metadata": {},
     "output_type": "execute_result"
    }
   ],
   "source": [
    "re.findall('[a-z0-9_]*@[a-z]*.[a-z]*', chat3) # mail id"
   ]
  },
  {
   "cell_type": "code",
   "execution_count": 41,
   "id": "ac933435-6975-4eda-942e-fdeccdab6aac",
   "metadata": {},
   "outputs": [],
   "source": [
    "ronaldo = '''Personal information\n",
    "Full name\tCristiano Ronaldo dos Santos Aveiro[1]\n",
    "Date of birth 5 February 1985 (age 38)[1]\n",
    "Place of birth\tFunchal, Madeira, Portugal[1]\n",
    "Height\t1.87 m (6 ft 2 in)[note 1]\n",
    "Position(s)\tForward\n",
    "Team information\n",
    "Current team\tAl Nassr\n",
    "Number\t7'''\n"
   ]
  },
  {
   "cell_type": "code",
   "execution_count": 102,
   "id": "c2d60730-062f-49d3-89cc-2efacbebe615",
   "metadata": {},
   "outputs": [
    {
     "data": {
      "text/plain": [
       "['Cristiano Ronaldo dos Santos Aveiro']"
      ]
     },
     "execution_count": 102,
     "metadata": {},
     "output_type": "execute_result"
    }
   ],
   "source": [
    "n = re.findall('name\\t(.*)\\[', ronaldo)\n",
    "n"
   ]
  },
  {
   "cell_type": "code",
   "execution_count": 104,
   "id": "d6bdc6c9-346e-43f3-9ddf-f4cb979fa238",
   "metadata": {},
   "outputs": [
    {
     "data": {
      "text/plain": [
       "['Funchal, Madeira, Portugal']"
      ]
     },
     "execution_count": 104,
     "metadata": {},
     "output_type": "execute_result"
    }
   ],
   "source": [
    "a = re.findall('Place of birth\\t(.*)\\[', ronaldo) # place of birth\n",
    "a"
   ]
  },
  {
   "cell_type": "code",
   "execution_count": 80,
   "id": "41ee9b51-6457-43b1-804d-4404baacf408",
   "metadata": {},
   "outputs": [
    {
     "data": {
      "text/plain": [
       "['1.87 ']"
      ]
     },
     "execution_count": 80,
     "metadata": {},
     "output_type": "execute_result"
    }
   ],
   "source": [
    "b = re.findall('Height\\t([0-9].*)m', ronaldo) # getting the height in meter\n",
    "b # (...) is the ouptut what we want after 'Height...'"
   ]
  },
  {
   "cell_type": "code",
   "execution_count": 97,
   "id": "701940e4-183d-4dcf-b86b-d20c2a93506a",
   "metadata": {},
   "outputs": [
    {
     "data": {
      "text/plain": [
       "[' 5 February 1985 ']"
      ]
     },
     "execution_count": 97,
     "metadata": {},
     "output_type": "execute_result"
    }
   ],
   "source": [
    "birth = re.findall('birth(.*)\\(', ronaldo)\n",
    "birth"
   ]
  },
  {
   "cell_type": "code",
   "execution_count": 100,
   "id": "56a6a25d-05f8-4983-92be-bf065c4bc251",
   "metadata": {},
   "outputs": [
    {
     "data": {
      "text/plain": [
       "[' 38']"
      ]
     },
     "execution_count": 100,
     "metadata": {},
     "output_type": "execute_result"
    }
   ],
   "source": [
    "age = re.findall('age(.*)\\)', ronaldo)\n",
    "age"
   ]
  },
  {
   "cell_type": "code",
   "execution_count": 115,
   "id": "bbe18011-3685-443d-8d1c-ba39bd16b445",
   "metadata": {},
   "outputs": [],
   "source": [
    "# simple function to get all the data in a dictionary:\n",
    "def get_personal_info(text):\n",
    "    name = re.findall('name\\t(.*)\\[', text)\n",
    "    birth_place = re.findall('Place of birth\\t(.*)\\[', text)\n",
    "    Dob = re.findall('birth(.*)\\(', text)\n",
    "    age = re.findall('age(.*)\\)', text)\n",
    "\n",
    "# Returning the dictionary items:\n",
    "    return {\n",
    "        'name': name[0].strip(),\n",
    "        'birth_place': birth_place[0].strip(),\n",
    "        'Dob': Dob[0].strip(),\n",
    "        'age': int(age[0].strip())\n",
    "    }"
   ]
  },
  {
   "cell_type": "code",
   "execution_count": 116,
   "id": "2efdb432-8eda-4176-bb98-7c7fe1ac3cd9",
   "metadata": {},
   "outputs": [
    {
     "data": {
      "text/plain": [
       "{'name': 'Cristiano Ronaldo dos Santos Aveiro',\n",
       " 'birth_place': 'Funchal, Madeira, Portugal',\n",
       " 'Dob': '5 February 1985',\n",
       " 'age': 38}"
      ]
     },
     "execution_count": 116,
     "metadata": {},
     "output_type": "execute_result"
    }
   ],
   "source": [
    "get_personal_info(ronaldo)"
   ]
  },
  {
   "cell_type": "markdown",
   "id": "006f6285-61c4-4851-be79-6e519b427b13",
   "metadata": {},
   "source": [
    "# Python Regular Expression Tutorial Exericse"
   ]
  },
  {
   "cell_type": "markdown",
   "id": "321cf390-b1e9-45a7-a8d8-d16c3dbd5f3e",
   "metadata": {},
   "source": [
    "### 1. Extract all twitter handles from following text. Twitter handle is the text that appears after https://twitter.com/ and is a single word. Also it contains only alpha numeric characters i.e. A-Z a-z , o to 9 and underscore```"
   ]
  },
  {
   "cell_type": "code",
   "execution_count": 117,
   "id": "825b080b-d5c4-4443-b2af-a9679c981c37",
   "metadata": {},
   "outputs": [],
   "source": [
    "text = '''\n",
    "Follow our leader Elon musk on twitter here: https://twitter.com/elonmusk, more information \n",
    "on Tesla's products can be found at https://www.tesla.com/. Also here are leading influencers \n",
    "for tesla related news,\n",
    "https://twitter.com/teslarati\n",
    "https://twitter.com/dummy_tesla\n",
    "https://twitter.com/dummy_2_tesla\n",
    "'''"
   ]
  },
  {
   "cell_type": "code",
   "execution_count": 152,
   "id": "91b46dca-6057-4fc0-8b26-8395f60d8288",
   "metadata": {},
   "outputs": [],
   "source": [
    "def find_handles(text):\n",
    "    pattern1 = 'https:\\/\\/twitter.com\\/(.*),|https:\\/\\/twitter.com\\/(.*)'\n",
    "    handles = re.findall(pattern1, text)\n",
    "    return handles\n",
    "    \n",
    "    \n"
   ]
  },
  {
   "cell_type": "code",
   "execution_count": 155,
   "id": "1b964f46-295c-4be9-8b10-abb0ddcf8b51",
   "metadata": {},
   "outputs": [
    {
     "data": {
      "text/plain": [
       "[('elonmusk', ''),\n",
       " ('', 'teslarati'),\n",
       " ('', 'dummy_tesla'),\n",
       " ('', 'dummy_2_tesla')]"
      ]
     },
     "execution_count": 155,
     "metadata": {},
     "output_type": "execute_result"
    }
   ],
   "source": [
    "handles = find_handles(text)\n",
    "handles"
   ]
  },
  {
   "cell_type": "code",
   "execution_count": 164,
   "id": "46e69358-3a60-4a9f-9ca7-5c4b97831f3f",
   "metadata": {},
   "outputs": [],
   "source": [
    "# getting the handle names from those list of tuples:\n",
    "all_handles = []\n",
    "for tup in handles:\n",
    "    if tup[0] != '':\n",
    "        all_handles.append(tup[0])\n",
    "    if tup[1] != '':\n",
    "        all_handles.append(tup[1])"
   ]
  },
  {
   "cell_type": "code",
   "execution_count": 165,
   "id": "556c5c66-e46f-4890-bd3f-ad9dc48a4702",
   "metadata": {},
   "outputs": [
    {
     "data": {
      "text/plain": [
       "['elonmusk', 'teslarati', 'dummy_tesla', 'dummy_2_tesla']"
      ]
     },
     "execution_count": 165,
     "metadata": {},
     "output_type": "execute_result"
    }
   ],
   "source": [
    "all_handles"
   ]
  },
  {
   "cell_type": "markdown",
   "id": "20f5697b-4939-408f-8315-a423fb746ba2",
   "metadata": {},
   "source": [
    "### 2. Extract Concentration Risk Types. It will be a text that appears after \"Concentration Risk:\", In below example, your regex should extract these two strings```\n",
    "\n",
    "(1) Credit Risk\n",
    "\n",
    "(2) Supply Rish"
   ]
  },
  {
   "cell_type": "code",
   "execution_count": 181,
   "id": "46575872-1984-4087-9c6e-2ca6f0b3edf9",
   "metadata": {},
   "outputs": [],
   "source": [
    "text = '''\n",
    "Concentration of Risk: Credit Risk\n",
    "Financial instruments that potentially subject us to a concentration of credit risk consist of cash, cash equivalents, marketable securities,\n",
    "restricted cash, accounts receivable, convertible note hedges, and interest rate swaps. Our cash balances are primarily invested in money market funds\n",
    "or on deposit at high credit quality financial institutions in the U.S. These deposits are typically in excess of insured limits. As of September 30, 2021\n",
    "and December 31, 2020, no entity represented 10% or more of our total accounts receivable balance. The risk of concentration for our convertible note\n",
    "hedges and interest rate swaps is mitigated by transacting with several highly-rated multinational banks.\n",
    "Concentration of Risk: Supply Risk\n",
    "We are dependent on our suppliers, including single source suppliers, and the inability of these suppliers to deliver necessary components of our\n",
    "products in a timely manner at prices, quality levels and volumes acceptable to us, or our inability to efficiently manage these components from these\n",
    "suppliers, could have a material adverse effect on our business, prospects, financial condition and operating results.\n",
    "'''"
   ]
  },
  {
   "cell_type": "code",
   "execution_count": 182,
   "id": "e803dc34-5caa-4a29-8a65-d97a988ced05",
   "metadata": {},
   "outputs": [
    {
     "data": {
      "text/plain": [
       "[' Credit Risk', ' Supply Risk']"
      ]
     },
     "execution_count": 182,
     "metadata": {},
     "output_type": "execute_result"
    }
   ],
   "source": [
    "pat = re.findall('Concentration of Risk:(.*)', text)\n",
    "pat"
   ]
  },
  {
   "cell_type": "code",
   "execution_count": null,
   "id": "1112ae2b-ee6f-40f4-812a-b2351e4dd2c6",
   "metadata": {},
   "outputs": [],
   "source": []
  },
  {
   "cell_type": "markdown",
   "id": "381c51fe-17d6-469c-80ab-772f4ffcb247",
   "metadata": {},
   "source": [
    "### 3. Companies in europe reports their financial numbers of semi annual basis and you can have a document like this. To exatract quarterly and semin annual period you can use a regex as shown below"
   ]
  },
  {
   "cell_type": "code",
   "execution_count": 185,
   "id": "f848c70d-ff11-41b9-be17-3fd7385f7f40",
   "metadata": {},
   "outputs": [],
   "source": [
    "text = '''\n",
    "Tesla's gross cost of operating lease vehicles in FY2021 Q1 was $4.85 billion.\n",
    "BMW's gross cost of operating vehicles in FY2021 S1 was $8 billion.\n",
    "'''\n",
    "pattern = '' # todo: type your regex here\n"
   ]
  },
  {
   "cell_type": "code",
   "execution_count": 187,
   "id": "2708d90c-00d6-4394-8358-d2fe36636f0f",
   "metadata": {},
   "outputs": [
    {
     "data": {
      "text/plain": [
       "[(' $4.85 ', ''), ('', ' $8 ')]"
      ]
     },
     "execution_count": 187,
     "metadata": {},
     "output_type": "execute_result"
    }
   ],
   "source": [
    "ans = re.findall('Q1 was(.*)b|S1 was(.*)b', text)\n",
    "ans"
   ]
  },
  {
   "cell_type": "code",
   "execution_count": null,
   "id": "12fd3e13-1663-4509-a7d7-878377d2dd5b",
   "metadata": {},
   "outputs": [],
   "source": []
  },
  {
   "cell_type": "markdown",
   "id": "ad412e94-6c0c-4bd8-b6e3-10a464dae00c",
   "metadata": {},
   "source": [
    "### Here we used just the Rules & Heuristic method of text extraction::"
   ]
  },
  {
   "cell_type": "markdown",
   "id": "e5053503-4dbe-4af7-a7df-6371fad14f4b",
   "metadata": {},
   "source": [
    "## Nlp techniques:\n",
    "1. Rules & Heuristics:\n",
    "2. Machine Learning:- Bag of words, count vectorizers\n",
    "3. Deep Learning:- word embedding"
   ]
  },
  {
   "cell_type": "code",
   "execution_count": null,
   "id": "216d013e-004b-4bb5-b3fc-50ba00f9019f",
   "metadata": {},
   "outputs": [],
   "source": []
  }
 ],
 "metadata": {
  "kernelspec": {
   "display_name": "Python 3 (ipykernel)",
   "language": "python",
   "name": "python3"
  },
  "language_info": {
   "codemirror_mode": {
    "name": "ipython",
    "version": 3
   },
   "file_extension": ".py",
   "mimetype": "text/x-python",
   "name": "python",
   "nbconvert_exporter": "python",
   "pygments_lexer": "ipython3",
   "version": "3.11.4"
  }
 },
 "nbformat": 4,
 "nbformat_minor": 5
}
