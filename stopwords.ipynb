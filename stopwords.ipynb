{
 "cells": [
  {
   "cell_type": "code",
   "execution_count": 39,
   "id": "76aa85a6-e592-4f34-9792-dd70f6563d8b",
   "metadata": {},
   "outputs": [],
   "source": [
    "import spacy\n",
    "from spacy.lang.en.stop_words import STOP_WORDS"
   ]
  },
  {
   "cell_type": "code",
   "execution_count": 40,
   "id": "f2938274-2abe-4ade-a743-079e6aeef949",
   "metadata": {},
   "outputs": [
    {
     "data": {
      "text/plain": [
       "326"
      ]
     },
     "execution_count": 40,
     "metadata": {},
     "output_type": "execute_result"
    }
   ],
   "source": [
    "len(STOP_WORDS)"
   ]
  },
  {
   "cell_type": "code",
   "execution_count": 41,
   "id": "6bf99fc8-e8e3-44c2-9f39-d637bf41b45b",
   "metadata": {},
   "outputs": [],
   "source": [
    "nlp = spacy.load(\"en_core_web_sm\")\n",
    "text = \"I want to go to my school\"\n",
    "doc = nlp(text)"
   ]
  },
  {
   "cell_type": "code",
   "execution_count": 42,
   "id": "762d5ddd-1ead-44a7-adef-5389162ad24e",
   "metadata": {},
   "outputs": [
    {
     "name": "stdout",
     "output_type": "stream",
     "text": [
      "I\n",
      "to\n",
      "go\n",
      "to\n",
      "my\n"
     ]
    }
   ],
   "source": [
    "for token in doc:\n",
    "    if token.is_stop:\n",
    "        print(token)"
   ]
  },
  {
   "cell_type": "code",
   "execution_count": 47,
   "id": "c354ad4c-5e4e-4f5d-ab72-b2e67e754ff8",
   "metadata": {},
   "outputs": [],
   "source": [
    "# creating custom function for stop word removal:\n",
    "\"\"\"\n",
    "def stop_removal(text):\n",
    "    doc = nlp(text)\n",
    "    no_stop = []\n",
    "    for token in doc:\n",
    "        if not token.is_stop:\n",
    "            no_stop.append(token)\n",
    "    return no_stop\n",
    "\"\"\"\n",
    "\n",
    "# using list compreshension method:\n",
    "def stop_removal(text):\n",
    "    doc = nlp(text)\n",
    "    no_stop = [ token for token in doc if not token.is_stop ]\n",
    "    return no_stop"
   ]
  },
  {
   "cell_type": "code",
   "execution_count": 48,
   "id": "8952847c-9a87-4438-bb52-ebc7325c2d5b",
   "metadata": {},
   "outputs": [
    {
     "data": {
      "text/plain": [
       "[Hey, !, won, match]"
      ]
     },
     "execution_count": 48,
     "metadata": {},
     "output_type": "execute_result"
    }
   ],
   "source": [
    "stop_removal(\"Hey! we won the match\")"
   ]
  },
  {
   "cell_type": "code",
   "execution_count": 57,
   "id": "2e27413b-17d3-41a8-9b27-4c891d9a4a55",
   "metadata": {},
   "outputs": [],
   "source": [
    "# loading the dataset:\n",
    "# Load JSON data from file\n",
    "df = pd.read_json('combined.json', lines=True)"
   ]
  },
  {
   "cell_type": "code",
   "execution_count": 63,
   "id": "078dbcdb-b7ac-4c9d-afdc-fa2c6f0b001e",
   "metadata": {},
   "outputs": [
    {
     "data": {
      "text/html": [
       "<div>\n",
       "<style scoped>\n",
       "    .dataframe tbody tr th:only-of-type {\n",
       "        vertical-align: middle;\n",
       "    }\n",
       "\n",
       "    .dataframe tbody tr th {\n",
       "        vertical-align: top;\n",
       "    }\n",
       "\n",
       "    .dataframe thead th {\n",
       "        text-align: right;\n",
       "    }\n",
       "</style>\n",
       "<table border=\"1\" class=\"dataframe\">\n",
       "  <thead>\n",
       "    <tr style=\"text-align: right;\">\n",
       "      <th></th>\n",
       "      <th>id</th>\n",
       "      <th>title</th>\n",
       "      <th>contents</th>\n",
       "      <th>date</th>\n",
       "      <th>topics</th>\n",
       "      <th>components</th>\n",
       "    </tr>\n",
       "  </thead>\n",
       "  <tbody>\n",
       "    <tr>\n",
       "      <th>12092</th>\n",
       "      <td>12-543</td>\n",
       "      <td>Two Northern California Real Estate Investors ...</td>\n",
       "      <td>WASHINGTON – Two northern California real esta...</td>\n",
       "      <td>2012-04-26T00:00:00-04:00</td>\n",
       "      <td>[StopFraud]</td>\n",
       "      <td>[Antitrust Division]</td>\n",
       "    </tr>\n",
       "    <tr>\n",
       "      <th>12385</th>\n",
       "      <td>17-761</td>\n",
       "      <td>United States Settles Lawsuit over Electric Ca...</td>\n",
       "      <td>A lawsuit was settled today involving an elect...</td>\n",
       "      <td>2017-07-12T00:00:00-04:00</td>\n",
       "      <td>[]</td>\n",
       "      <td>[Environment and Natural Resources Division]</td>\n",
       "    </tr>\n",
       "    <tr>\n",
       "      <th>5721</th>\n",
       "      <td>18-172</td>\n",
       "      <td>ISIS Supporter Sentenced to Prison for Firearm...</td>\n",
       "      <td>Casey Charles Spain, 29, of Richmond, Virginia...</td>\n",
       "      <td>2018-02-12T00:00:00-05:00</td>\n",
       "      <td>[Counterterrorism]</td>\n",
       "      <td>[National Security Division (NSD), USAO - Virg...</td>\n",
       "    </tr>\n",
       "    <tr>\n",
       "      <th>9129</th>\n",
       "      <td>16-528</td>\n",
       "      <td>New York Business Owner Pleads Guilty to Filin...</td>\n",
       "      <td>Failed to Report More than $650,000 in Income ...</td>\n",
       "      <td>2016-05-04T00:00:00-04:00</td>\n",
       "      <td>[Tax]</td>\n",
       "      <td>[Tax Division]</td>\n",
       "    </tr>\n",
       "  </tbody>\n",
       "</table>\n",
       "</div>"
      ],
      "text/plain": [
       "           id                                              title  \\\n",
       "12092  12-543  Two Northern California Real Estate Investors ...   \n",
       "12385  17-761  United States Settles Lawsuit over Electric Ca...   \n",
       "5721   18-172  ISIS Supporter Sentenced to Prison for Firearm...   \n",
       "9129   16-528  New York Business Owner Pleads Guilty to Filin...   \n",
       "\n",
       "                                                contents  \\\n",
       "12092  WASHINGTON – Two northern California real esta...   \n",
       "12385  A lawsuit was settled today involving an elect...   \n",
       "5721   Casey Charles Spain, 29, of Richmond, Virginia...   \n",
       "9129   Failed to Report More than $650,000 in Income ...   \n",
       "\n",
       "                            date              topics  \\\n",
       "12092  2012-04-26T00:00:00-04:00         [StopFraud]   \n",
       "12385  2017-07-12T00:00:00-04:00                  []   \n",
       "5721   2018-02-12T00:00:00-05:00  [Counterterrorism]   \n",
       "9129   2016-05-04T00:00:00-04:00               [Tax]   \n",
       "\n",
       "                                              components  \n",
       "12092                               [Antitrust Division]  \n",
       "12385       [Environment and Natural Resources Division]  \n",
       "5721   [National Security Division (NSD), USAO - Virg...  \n",
       "9129                                      [Tax Division]  "
      ]
     },
     "execution_count": 63,
     "metadata": {},
     "output_type": "execute_result"
    }
   ],
   "source": [
    "df.sample(4)"
   ]
  },
  {
   "cell_type": "code",
   "execution_count": 99,
   "id": "9f481136-47a9-4ea7-8807-5fc7d7f9368a",
   "metadata": {},
   "outputs": [
    {
     "data": {
      "text/plain": [
       "0        0\n",
       "1        0\n",
       "2        0\n",
       "3        0\n",
       "4        1\n",
       "        ..\n",
       "13082    1\n",
       "13083    0\n",
       "13084    1\n",
       "13085    2\n",
       "13086    1\n",
       "Name: topics, Length: 13087, dtype: int64"
      ]
     },
     "execution_count": 99,
     "metadata": {},
     "output_type": "execute_result"
    }
   ],
   "source": [
    "df['topics'].str.len() # length of all the items topic:"
   ]
  },
  {
   "cell_type": "code",
   "execution_count": 102,
   "id": "a46e1341-aba3-4685-863e-13940de456d6",
   "metadata": {},
   "outputs": [],
   "source": [
    "# filtering away all the items without anytopic:\n",
    "df = df[ df['topics'].str.len() != 0]"
   ]
  },
  {
   "cell_type": "code",
   "execution_count": 104,
   "id": "7822f069-0b87-4926-86bc-835fc907574b",
   "metadata": {},
   "outputs": [
    {
     "data": {
      "text/plain": [
       "(4688, 6)"
      ]
     },
     "execution_count": 104,
     "metadata": {},
     "output_type": "execute_result"
    }
   ],
   "source": [
    "df.shape"
   ]
  },
  {
   "cell_type": "code",
   "execution_count": 105,
   "id": "cde7b198-50d2-47eb-a17d-ffe03288abbf",
   "metadata": {},
   "outputs": [],
   "source": [
    "df = df.head(49) # taking first few rows only:"
   ]
  },
  {
   "cell_type": "code",
   "execution_count": 114,
   "id": "18849666-806d-41f3-838a-f1cddc991cdf",
   "metadata": {},
   "outputs": [
    {
     "data": {
      "text/plain": [
       "'The U.S. Department of Justice, the U.S. Environmental Protection Agency (EPA), and the Rhode Island Department of Environmental Management (RIDEM) announced today that two subsidiaries of Stanley Bla'"
      ]
     },
     "execution_count": 114,
     "metadata": {},
     "output_type": "execute_result"
    }
   ],
   "source": [
    "df['contents'][4][:200] # first 200 chars "
   ]
  },
  {
   "cell_type": "code",
   "execution_count": 116,
   "id": "7855f629-9eab-4435-bb70-d952af7ac298",
   "metadata": {},
   "outputs": [],
   "source": [
    "text = df['contents'][4][:200]"
   ]
  },
  {
   "cell_type": "code",
   "execution_count": 143,
   "id": "1f1d6d3e-ee40-49c2-ac6f-afedbe9ae4e7",
   "metadata": {},
   "outputs": [],
   "source": [
    "def remove_stopwords(text):\n",
    "    doc2 = nlp(text)\n",
    "    no_stop=[]\n",
    "    for token in doc2:\n",
    "        if not token.is_stop:\n",
    "            no_stop.append(token.text)\n",
    "    return ' '.join(no_stop)  # returning the list into string format."
   ]
  },
  {
   "cell_type": "code",
   "execution_count": 145,
   "id": "a9a166eb-3055-4e40-b55b-ae0f21659089",
   "metadata": {},
   "outputs": [
    {
     "data": {
      "text/plain": [
       "'U.S. Department Justice , U.S. Environmental Protection Agency ( EPA ) , Rhode Island Department Environmental Management ( RIDEM ) announced today subsidiaries Stanley Bla'"
      ]
     },
     "execution_count": 145,
     "metadata": {},
     "output_type": "execute_result"
    }
   ],
   "source": [
    "remove_stopwords(text)"
   ]
  },
  {
   "cell_type": "code",
   "execution_count": 147,
   "id": "d5250a53-fe90-4dbb-bb7f-6c82abfe057e",
   "metadata": {},
   "outputs": [
    {
     "data": {
      "text/html": [
       "<div>\n",
       "<style scoped>\n",
       "    .dataframe tbody tr th:only-of-type {\n",
       "        vertical-align: middle;\n",
       "    }\n",
       "\n",
       "    .dataframe tbody tr th {\n",
       "        vertical-align: top;\n",
       "    }\n",
       "\n",
       "    .dataframe thead th {\n",
       "        text-align: right;\n",
       "    }\n",
       "</style>\n",
       "<table border=\"1\" class=\"dataframe\">\n",
       "  <thead>\n",
       "    <tr style=\"text-align: right;\">\n",
       "      <th></th>\n",
       "      <th>id</th>\n",
       "      <th>title</th>\n",
       "      <th>contents</th>\n",
       "      <th>date</th>\n",
       "      <th>topics</th>\n",
       "      <th>components</th>\n",
       "    </tr>\n",
       "  </thead>\n",
       "  <tbody>\n",
       "    <tr>\n",
       "      <th>4</th>\n",
       "      <td>18-898</td>\n",
       "      <td>$100 Million Settlement Will Speed Cleanup Wor...</td>\n",
       "      <td>The U.S. Department of Justice, the U.S. Envir...</td>\n",
       "      <td>2018-07-09T00:00:00-04:00</td>\n",
       "      <td>[Environment]</td>\n",
       "      <td>[Environment and Natural Resources Division]</td>\n",
       "    </tr>\n",
       "    <tr>\n",
       "      <th>7</th>\n",
       "      <td>14-1412</td>\n",
       "      <td>14 Indicted in Connection with New England Com...</td>\n",
       "      <td>A 131-count criminal indictment was unsealed t...</td>\n",
       "      <td>2014-12-17T00:00:00-05:00</td>\n",
       "      <td>[Consumer Protection]</td>\n",
       "      <td>[Civil Division]</td>\n",
       "    </tr>\n",
       "  </tbody>\n",
       "</table>\n",
       "</div>"
      ],
      "text/plain": [
       "        id                                              title  \\\n",
       "4   18-898  $100 Million Settlement Will Speed Cleanup Wor...   \n",
       "7  14-1412  14 Indicted in Connection with New England Com...   \n",
       "\n",
       "                                            contents  \\\n",
       "4  The U.S. Department of Justice, the U.S. Envir...   \n",
       "7  A 131-count criminal indictment was unsealed t...   \n",
       "\n",
       "                        date                 topics  \\\n",
       "4  2018-07-09T00:00:00-04:00          [Environment]   \n",
       "7  2014-12-17T00:00:00-05:00  [Consumer Protection]   \n",
       "\n",
       "                                     components  \n",
       "4  [Environment and Natural Resources Division]  \n",
       "7                              [Civil Division]  "
      ]
     },
     "execution_count": 147,
     "metadata": {},
     "output_type": "execute_result"
    }
   ],
   "source": [
    "# Now creating a new column for the processed text:\n",
    "df.head(2)"
   ]
  },
  {
   "cell_type": "code",
   "execution_count": 148,
   "id": "9341e017-1ffd-47d2-81b8-273950587336",
   "metadata": {},
   "outputs": [
    {
     "name": "stderr",
     "output_type": "stream",
     "text": [
      "C:\\Users\\HP\\AppData\\Local\\Temp\\ipykernel_14140\\2608591029.py:1: SettingWithCopyWarning: \n",
      "A value is trying to be set on a copy of a slice from a DataFrame.\n",
      "Try using .loc[row_indexer,col_indexer] = value instead\n",
      "\n",
      "See the caveats in the documentation: https://pandas.pydata.org/pandas-docs/stable/user_guide/indexing.html#returning-a-view-versus-a-copy\n",
      "  df['new_contents'] = df['contents'].apply(remove_stopwords)\n"
     ]
    }
   ],
   "source": [
    "df['new_contents'] = df['contents'].apply(remove_stopwords)"
   ]
  },
  {
   "cell_type": "code",
   "execution_count": 150,
   "id": "77479b7d-feff-4029-8702-4ed895e43a47",
   "metadata": {},
   "outputs": [
    {
     "data": {
      "text/html": [
       "<div>\n",
       "<style scoped>\n",
       "    .dataframe tbody tr th:only-of-type {\n",
       "        vertical-align: middle;\n",
       "    }\n",
       "\n",
       "    .dataframe tbody tr th {\n",
       "        vertical-align: top;\n",
       "    }\n",
       "\n",
       "    .dataframe thead th {\n",
       "        text-align: right;\n",
       "    }\n",
       "</style>\n",
       "<table border=\"1\" class=\"dataframe\">\n",
       "  <thead>\n",
       "    <tr style=\"text-align: right;\">\n",
       "      <th></th>\n",
       "      <th>id</th>\n",
       "      <th>title</th>\n",
       "      <th>contents</th>\n",
       "      <th>date</th>\n",
       "      <th>topics</th>\n",
       "      <th>components</th>\n",
       "      <th>new_contents</th>\n",
       "    </tr>\n",
       "  </thead>\n",
       "  <tbody>\n",
       "    <tr>\n",
       "      <th>125</th>\n",
       "      <td>15-1451</td>\n",
       "      <td>Al-Qaeda Operative Sentenced to 40 Years in Pr...</td>\n",
       "      <td>Defendant Led Plan to Carry Out Bombing of Cro...</td>\n",
       "      <td>2015-11-24T00:00:00-05:00</td>\n",
       "      <td>[Counterterrorism, National Security]</td>\n",
       "      <td>[National Security Division (NSD), USAO - New ...</td>\n",
       "      <td>Defendant Led Plan Carry Bombing Crowded Shopp...</td>\n",
       "    </tr>\n",
       "    <tr>\n",
       "      <th>91</th>\n",
       "      <td>15-1146</td>\n",
       "      <td>Adventist Health System Agrees to Pay $115 Mil...</td>\n",
       "      <td>Adventist Health System has agreed to pay the ...</td>\n",
       "      <td>2015-09-21T00:00:00-04:00</td>\n",
       "      <td>[False Claims Act, Health Care Fraud]</td>\n",
       "      <td>[Civil Division]</td>\n",
       "      <td>Adventist Health System   agreed pay United St...</td>\n",
       "    </tr>\n",
       "  </tbody>\n",
       "</table>\n",
       "</div>"
      ],
      "text/plain": [
       "          id                                              title  \\\n",
       "125  15-1451  Al-Qaeda Operative Sentenced to 40 Years in Pr...   \n",
       "91   15-1146  Adventist Health System Agrees to Pay $115 Mil...   \n",
       "\n",
       "                                              contents  \\\n",
       "125  Defendant Led Plan to Carry Out Bombing of Cro...   \n",
       "91   Adventist Health System has agreed to pay the ...   \n",
       "\n",
       "                          date                                 topics  \\\n",
       "125  2015-11-24T00:00:00-05:00  [Counterterrorism, National Security]   \n",
       "91   2015-09-21T00:00:00-04:00  [False Claims Act, Health Care Fraud]   \n",
       "\n",
       "                                            components  \\\n",
       "125  [National Security Division (NSD), USAO - New ...   \n",
       "91                                    [Civil Division]   \n",
       "\n",
       "                                          new_contents  \n",
       "125  Defendant Led Plan Carry Bombing Crowded Shopp...  \n",
       "91   Adventist Health System   agreed pay United St...  "
      ]
     },
     "execution_count": 150,
     "metadata": {},
     "output_type": "execute_result"
    }
   ],
   "source": [
    "df.sample(2)"
   ]
  },
  {
   "cell_type": "code",
   "execution_count": 152,
   "id": "85bf9b42-c365-49fc-9cc3-76f4ba54a0ec",
   "metadata": {},
   "outputs": [
    {
     "data": {
      "text/plain": [
       "(7308, 5695)"
      ]
     },
     "execution_count": 152,
     "metadata": {},
     "output_type": "execute_result"
    }
   ],
   "source": [
    "len(df['contents'][125]), len(df['new_contents'][125]) # lengths before and after the stopword removal"
   ]
  },
  {
   "cell_type": "markdown",
   "id": "72029f1f-5544-42a5-8d31-685a4ffd784c",
   "metadata": {},
   "source": [
    "# Exercise:"
   ]
  },
  {
   "cell_type": "markdown",
   "id": "25f4934f-a2d7-4d0f-afef-794a9100875f",
   "metadata": {},
   "source": [
    "## Exercise1:\n",
    "\n",
    "From a Given Text, Count the number of stop words in it.\n",
    "Print the percentage of stop word tokens compared to all tokens in a given text."
   ]
  },
  {
   "cell_type": "code",
   "execution_count": 153,
   "id": "a42bcb82-79c0-48d4-9d73-317d8c236d44",
   "metadata": {},
   "outputs": [],
   "source": [
    "text = '''\n",
    "Thor: Love and Thunder is a 2022 American superhero film based on Marvel Comics featuring the character Thor, produced by Marvel Studios and \n",
    "distributed by Walt Disney Studios Motion Pictures. It is the sequel to Thor: Ragnarok (2017) and the 29th film in the Marvel Cinematic Universe (MCU).\n",
    "The film is directed by Taika Waititi, who co-wrote the script with Jennifer Kaytin Robinson, and stars Chris Hemsworth as Thor alongside Christian Bale, Tessa Thompson,\n",
    "Jaimie Alexander, Waititi, Russell Crowe, and Natalie Portman. In the film, Thor attempts to find inner peace, but must return to action and recruit Valkyrie (Thompson),\n",
    "Korg (Waititi), and Jane Foster (Portman)—who is now the Mighty Thor—to stop Gorr the God Butcher (Bale) from eliminating all gods.\n",
    "'''"
   ]
  },
  {
   "cell_type": "code",
   "execution_count": 154,
   "id": "07cbb514-36ff-40e7-ac26-706b0d5ee8d6",
   "metadata": {},
   "outputs": [],
   "source": [
    "doc = nlp(text)\n",
    "stop_words = list()\n",
    "for token in doc:\n",
    "    if token.is_stop:\n",
    "        stop_words.append(token)"
   ]
  },
  {
   "cell_type": "code",
   "execution_count": 162,
   "id": "0bdf9a2b-8570-49aa-97df-a382568e0f19",
   "metadata": {},
   "outputs": [
    {
     "name": "stdout",
     "output_type": "stream",
     "text": [
      "25.0 %\n"
     ]
    }
   ],
   "source": [
    "percent_stop  = len(stop_words)/len(doc)*100\n",
    "print(percent_stop, \"%\")"
   ]
  },
  {
   "cell_type": "markdown",
   "id": "bf150c2b-619e-4272-ba17-f32a1bda039b",
   "metadata": {},
   "source": [
    "## Exercise2:\n",
    "\n",
    "Spacy default implementation considers \"not\" as a stop word. But in some scenarios removing 'not' will completely change the meaning of the statement/text. For Example, consider these two statements:\n",
    "\n",
    "- this is a good movie       ----> Positive Statement\n",
    "- this is not a good movie   ----> Negative Statement\n",
    "\n",
    "So, after applying stopwords to those 2 texts, both will return \"good movie\" and does not respect the polarity/sentiments of text.\n",
    "\n",
    "Now, your task is to remove this stop word \"not\" in spaCy and help in distinguishing the texts."
   ]
  },
  {
   "cell_type": "code",
   "execution_count": 229,
   "id": "5241a8e4-3e57-4da4-ac2f-745ab9ced446",
   "metadata": {},
   "outputs": [],
   "source": [
    "# removing the negative word available in spacy:\n",
    "nlp.vocab['not'].is_stop = False"
   ]
  },
  {
   "cell_type": "code",
   "execution_count": 237,
   "id": "705c99fa-e8d9-44a2-af2f-b0d62cccba7f",
   "metadata": {},
   "outputs": [],
   "source": [
    "def preprocess(text):\n",
    "    doc = nlp(text)\n",
    "    no_stop=[]\n",
    "    for token in doc:\n",
    "        if not token.is_stop:\n",
    "            no_stop.append(token.text)\n",
    "    return ' '.join(no_stop)"
   ]
  },
  {
   "cell_type": "code",
   "execution_count": 238,
   "id": "d93d6987-6734-456d-8205-fc6ccec6c6cb",
   "metadata": {},
   "outputs": [],
   "source": [
    "positive_text = preprocess('this is a good movie')\n",
    "negative_text = preprocess('this is not a good movie')"
   ]
  },
  {
   "cell_type": "code",
   "execution_count": 240,
   "id": "4c33a23c-8150-4319-8821-874b5f9af6ce",
   "metadata": {},
   "outputs": [
    {
     "data": {
      "text/plain": [
       "('good movie', 'not good movie')"
      ]
     },
     "execution_count": 240,
     "metadata": {},
     "output_type": "execute_result"
    }
   ],
   "source": [
    "positive_text, negative_text"
   ]
  },
  {
   "cell_type": "markdown",
   "id": "0b33499b-eccb-4bd6-a3ed-d1648dfd0874",
   "metadata": {},
   "source": [
    "## Exercise3:\n",
    "\n",
    "From a given text, output the most frequently used token after removing all the stop word tokens and punctuations in it."
   ]
  },
  {
   "cell_type": "code",
   "execution_count": 163,
   "id": "5aaca5c9-dc76-4733-bc45-8faeeb109fc3",
   "metadata": {},
   "outputs": [],
   "source": [
    "text = ''' The India men's national cricket team, also known as Team India or the Men in Blue, represents India in men's international cricket.\n",
    "It is governed by the Board of Control for Cricket in India (BCCI), and is a Full Member of the International Cricket Council (ICC) with Test,\n",
    "One Day International (ODI) and Twenty20 International (T20I) status. Cricket was introduced to India by British sailors in the 18th century, and the \n",
    "first cricket club was established in 1792. India's national cricket team played its first Test match on 25 June 1932 at Lord's, becoming the sixth team to be\n",
    "granted test cricket status.\n",
    "'''\n"
   ]
  },
  {
   "cell_type": "code",
   "execution_count": 179,
   "id": "c52a0046-5f08-444b-adfd-0a8571deb37b",
   "metadata": {},
   "outputs": [],
   "source": [
    "doc = nlp(text)\n",
    "modi_text = [token.text for token in doc if not token.is_stop and not token.is_punct]\n"
   ]
  },
  {
   "cell_type": "code",
   "execution_count": 180,
   "id": "9b78179d-24e2-4227-8641-28e2637cd83e",
   "metadata": {},
   "outputs": [],
   "source": [
    "modi_text = ' '.join(modi_text)"
   ]
  },
  {
   "cell_type": "code",
   "execution_count": 182,
   "id": "3ec129bf-52f4-438e-a88a-a0fec3c30f9d",
   "metadata": {},
   "outputs": [
    {
     "data": {
      "text/plain": [
       "'  India men national cricket team known Team India Men Blue represents India men international cricket \\n governed Board Control Cricket India BCCI Member International Cricket Council ICC Test \\n Day International ODI Twenty20 International T20I status Cricket introduced India British sailors 18th century \\n cricket club established 1792 India national cricket team played Test match 25 June 1932 Lord sixth team \\n granted test cricket status \\n'"
      ]
     },
     "execution_count": 182,
     "metadata": {},
     "output_type": "execute_result"
    }
   ],
   "source": [
    "modi_text"
   ]
  },
  {
   "cell_type": "code",
   "execution_count": 184,
   "id": "f7670721-a3b1-4fe0-97ba-e753016c4c08",
   "metadata": {},
   "outputs": [
    {
     "data": {
      "text/plain": [
       "(616, 444)"
      ]
     },
     "execution_count": 184,
     "metadata": {},
     "output_type": "execute_result"
    }
   ],
   "source": [
    "len(text), len(modi_text)"
   ]
  },
  {
   "cell_type": "code",
   "execution_count": 214,
   "id": "946d5b90-fd1d-45bf-9076-5e1fd6e10073",
   "metadata": {},
   "outputs": [],
   "source": [
    "dict_token = {}\n",
    "for token in modi_text.split():\n",
    "    if token != '\\n' and token != ' ':\n",
    "        if token in dict_token:\n",
    "            dict_token[token] += 1\n",
    "        else:\n",
    "            dict_token[token] =1"
   ]
  },
  {
   "cell_type": "code",
   "execution_count": 226,
   "id": "7d978c6f-ac90-4fc0-8d9a-63dc4b7a3259",
   "metadata": {},
   "outputs": [
    {
     "data": {
      "text/plain": [
       "[('India', 6),\n",
       " ('cricket', 5),\n",
       " ('team', 3),\n",
       " ('Cricket', 3),\n",
       " ('International', 3),\n",
       " ('men', 2),\n",
       " ('national', 2),\n",
       " ('Test', 2),\n",
       " ('status', 2),\n",
       " ('known', 1),\n",
       " ('Team', 1),\n",
       " ('Men', 1),\n",
       " ('Blue', 1),\n",
       " ('represents', 1),\n",
       " ('international', 1),\n",
       " ('governed', 1),\n",
       " ('Board', 1),\n",
       " ('Control', 1),\n",
       " ('BCCI', 1),\n",
       " ('Member', 1),\n",
       " ('Council', 1),\n",
       " ('ICC', 1),\n",
       " ('Day', 1),\n",
       " ('ODI', 1),\n",
       " ('Twenty20', 1),\n",
       " ('T20I', 1),\n",
       " ('introduced', 1),\n",
       " ('British', 1),\n",
       " ('sailors', 1),\n",
       " ('18th', 1),\n",
       " ('century', 1),\n",
       " ('club', 1),\n",
       " ('established', 1),\n",
       " ('1792', 1),\n",
       " ('played', 1),\n",
       " ('match', 1),\n",
       " ('25', 1),\n",
       " ('June', 1),\n",
       " ('1932', 1),\n",
       " ('Lord', 1),\n",
       " ('sixth', 1),\n",
       " ('granted', 1),\n",
       " ('test', 1)]"
      ]
     },
     "execution_count": 226,
     "metadata": {},
     "output_type": "execute_result"
    }
   ],
   "source": [
    "sorted(dict_token.items(), key = lambda x: 1/x[1]) # sorting in reverse order:"
   ]
  },
  {
   "cell_type": "code",
   "execution_count": null,
   "id": "40b2098a-4272-4422-aff1-a58faf0fc51c",
   "metadata": {},
   "outputs": [],
   "source": [
    "# clearly the word India is occuring maximum number of times."
   ]
  },
  {
   "cell_type": "code",
   "execution_count": null,
   "id": "d7a3dbd8-77d2-46ce-b914-6502a5e93219",
   "metadata": {},
   "outputs": [],
   "source": []
  }
 ],
 "metadata": {
  "kernelspec": {
   "display_name": "Python 3 (ipykernel)",
   "language": "python",
   "name": "python3"
  },
  "language_info": {
   "codemirror_mode": {
    "name": "ipython",
    "version": 3
   },
   "file_extension": ".py",
   "mimetype": "text/x-python",
   "name": "python",
   "nbconvert_exporter": "python",
   "pygments_lexer": "ipython3",
   "version": "3.11.4"
  }
 },
 "nbformat": 4,
 "nbformat_minor": 5
}
