{
 "cells": [
  {
   "cell_type": "code",
   "execution_count": 1,
   "id": "4e91ff88-c74c-415a-a936-cedb473f878b",
   "metadata": {},
   "outputs": [],
   "source": [
    "import spacy"
   ]
  },
  {
   "cell_type": "code",
   "execution_count": 7,
   "id": "8eab49c4-2019-4d55-84a5-b64ea8517a56",
   "metadata": {},
   "outputs": [],
   "source": [
    "# creating a pipeline with pre-trained english language identifier.\n",
    "nlp = spacy.load(\"en_core_web_sm\")"
   ]
  },
  {
   "cell_type": "code",
   "execution_count": 8,
   "id": "e1ce7317-3bec-48a4-bab9-9079f433b47a",
   "metadata": {},
   "outputs": [],
   "source": [
    "text = \"Elon flew to mars yesterday. He carried chicken briyani with him\"\n",
    "doc = nlp(text)"
   ]
  },
  {
   "cell_type": "code",
   "execution_count": 21,
   "id": "22eb0886-ffb0-4802-85cc-b10f3c99f260",
   "metadata": {},
   "outputs": [
    {
     "name": "stdout",
     "output_type": "stream",
     "text": [
      "Elon  |  PROPN  |  proper noun\n",
      "flew  |  VERB  |  verb\n",
      "to  |  ADP  |  adposition\n",
      "mars  |  NOUN  |  noun\n",
      "yesterday  |  NOUN  |  noun\n",
      ".  |  PUNCT  |  punctuation\n",
      "He  |  PRON  |  pronoun\n",
      "carried  |  VERB  |  verb\n",
      "chicken  |  NOUN  |  noun\n",
      "briyani  |  PROPN  |  proper noun\n",
      "with  |  ADP  |  adposition\n",
      "him  |  PRON  |  pronoun\n"
     ]
    }
   ],
   "source": [
    "for token in doc:\n",
    "    print(token, \" | \", token.pos_, \" | \", spacy.explain(token.pos_)) # parts of speech tagging with explanation:"
   ]
  },
  {
   "cell_type": "code",
   "execution_count": 24,
   "id": "aa8aaf5f-7d2c-4367-9d9d-a33a4bc2603c",
   "metadata": {},
   "outputs": [
    {
     "name": "stdout",
     "output_type": "stream",
     "text": [
      "Elon  |  NNP  |  noun, proper singular\n",
      "flew  |  VBD  |  verb, past tense\n",
      "to  |  IN  |  conjunction, subordinating or preposition\n",
      "mars  |  NNS  |  noun, plural\n",
      "yesterday  |  NN  |  noun, singular or mass\n",
      ".  |  .  |  punctuation mark, sentence closer\n",
      "He  |  PRP  |  pronoun, personal\n",
      "carried  |  VBD  |  verb, past tense\n",
      "chicken  |  NN  |  noun, singular or mass\n",
      "briyani  |  NNP  |  noun, proper singular\n",
      "with  |  IN  |  conjunction, subordinating or preposition\n",
      "him  |  PRP  |  pronoun, personal\n"
     ]
    }
   ],
   "source": [
    "# using TAG to get description about the form of verb and other extra info.\n",
    "for token in doc:\n",
    "    print(token, \" | \", token.tag_, \" | \", spacy.explain(token.tag_))"
   ]
  },
  {
   "cell_type": "markdown",
   "id": "4667a209-6c1b-490a-a674-00f61709095a",
   "metadata": {},
   "source": [
    "### Spacy is smart enough to understand the meaning in a document about the language"
   ]
  },
  {
   "cell_type": "code",
   "execution_count": 29,
   "id": "2e5fb6c0-c97d-4c5d-bd2e-0fd35201f7c0",
   "metadata": {},
   "outputs": [],
   "source": [
    "news = \"\"\"\n",
    "REDMOND, Wash. — July 25, 2023 — Microsoft Corp. today announced the following results for the quarter ended June 30, 2023, as compared to the corresponding period of last fiscal year (test etc.):\n",
    "\n",
    "·        Revenue was $56.2 billion and increased 8% (up 10% in constant currency)\n",
    "\n",
    "·        Operating income was $24.3 billion and increased 18% (up 21% in constant currency)\n",
    "\n",
    "·        Net income was $20.1 billion and increased 20% (up 23% in constant currency)\n",
    "\n",
    "·        Diluted earnings per share was $2.69 and increased 21% (up 23% in constant currency)\n",
    "\n",
    "“Organizations are asking not only how – but how fast – they can apply this next generation of AI to address the biggest opportunities and challenges they face – safely and responsibly,” said Satya Nadella, chairman and chief executive officer of Microsoft. “We remain focused on leading the new AI platform shift, helping customers use the Microsoft Cloud to get the most value out of their digital spend, and driving operating leverage.”\n",
    "\"\"\""
   ]
  },
  {
   "cell_type": "markdown",
   "id": "e38069d2-4f56-4fef-bb70-2c61a4f25793",
   "metadata": {},
   "source": [
    "### Will try to remove all the punctuations and extra characters from the news:"
   ]
  },
  {
   "cell_type": "code",
   "execution_count": 65,
   "id": "8c79c4b5-71ac-4c67-9efa-2a1694cfebae",
   "metadata": {},
   "outputs": [
    {
     "name": "stdout",
     "output_type": "stream",
     "text": [
      "REDMOND  |  PROPN\n",
      "Wash.  |  PROPN\n",
      "July  |  PROPN\n",
      "25  |  NUM\n",
      "2023  |  NUM\n",
      "Microsoft  |  PROPN\n",
      "Corp.  |  PROPN\n",
      "today  |  NOUN\n",
      "announced  |  VERB\n",
      "the  |  DET\n",
      "following  |  VERB\n",
      "results  |  NOUN\n",
      "for  |  ADP\n",
      "the  |  DET\n",
      "quarter  |  NOUN\n",
      "ended  |  VERB\n",
      "June  |  PROPN\n",
      "30  |  NUM\n",
      "2023  |  NUM\n",
      "as  |  SCONJ\n",
      "compared  |  VERB\n",
      "to  |  ADP\n",
      "the  |  DET\n",
      "corresponding  |  ADJ\n",
      "period  |  NOUN\n",
      "of  |  ADP\n",
      "last  |  ADJ\n",
      "fiscal  |  ADJ\n",
      "year  |  NOUN\n",
      "test  |  NOUN\n",
      "Revenue  |  NOUN\n",
      "was  |  AUX\n",
      "$  |  SYM\n",
      "56.2  |  NUM\n",
      "billion  |  NUM\n",
      "and  |  CCONJ\n",
      "increased  |  VERB\n",
      "8  |  NUM\n",
      "%  |  NOUN\n",
      "up  |  ADV\n",
      "10  |  NUM\n",
      "%  |  NOUN\n",
      "in  |  ADP\n",
      "constant  |  ADJ\n",
      "currency  |  NOUN\n",
      "Operating  |  VERB\n",
      "income  |  NOUN\n",
      "was  |  AUX\n",
      "$  |  SYM\n",
      "24.3  |  NUM\n",
      "billion  |  NUM\n",
      "and  |  CCONJ\n",
      "increased  |  VERB\n",
      "18  |  NUM\n",
      "%  |  NOUN\n",
      "up  |  ADV\n",
      "21  |  NUM\n",
      "%  |  NOUN\n",
      "in  |  ADP\n",
      "constant  |  ADJ\n",
      "currency  |  NOUN\n",
      "Net  |  ADJ\n",
      "income  |  NOUN\n",
      "was  |  AUX\n",
      "$  |  SYM\n",
      "20.1  |  NUM\n",
      "billion  |  NUM\n",
      "and  |  CCONJ\n",
      "increased  |  VERB\n",
      "20  |  NUM\n",
      "%  |  NOUN\n",
      "up  |  ADV\n",
      "23  |  NUM\n",
      "%  |  NOUN\n",
      "in  |  ADP\n",
      "constant  |  ADJ\n",
      "currency  |  NOUN\n",
      "Diluted  |  VERB\n",
      "earnings  |  NOUN\n",
      "per  |  ADP\n",
      "share  |  NOUN\n",
      "was  |  AUX\n",
      "$  |  SYM\n",
      "2.69  |  NUM\n",
      "and  |  CCONJ\n",
      "increased  |  VERB\n",
      "21  |  NUM\n",
      "%  |  NOUN\n",
      "up  |  ADV\n",
      "23  |  NUM\n",
      "%  |  NOUN\n",
      "in  |  ADP\n",
      "constant  |  ADJ\n",
      "currency  |  NOUN\n",
      "Organizations  |  NOUN\n",
      "are  |  AUX\n",
      "asking  |  VERB\n",
      "not  |  PART\n",
      "only  |  ADV\n",
      "how  |  SCONJ\n",
      "but  |  CCONJ\n",
      "how  |  SCONJ\n",
      "fast  |  ADV\n",
      "they  |  PRON\n",
      "can  |  AUX\n",
      "apply  |  VERB\n",
      "this  |  DET\n",
      "next  |  ADJ\n",
      "generation  |  NOUN\n",
      "of  |  ADP\n",
      "AI  |  PROPN\n",
      "to  |  PART\n",
      "address  |  VERB\n",
      "the  |  DET\n",
      "biggest  |  ADJ\n",
      "opportunities  |  NOUN\n",
      "and  |  CCONJ\n",
      "challenges  |  NOUN\n",
      "they  |  PRON\n",
      "face  |  VERB\n",
      "safely  |  ADV\n",
      "and  |  CCONJ\n",
      "responsibly  |  ADV\n",
      "said  |  VERB\n",
      "Satya  |  PROPN\n",
      "Nadella  |  PROPN\n",
      "chairman  |  NOUN\n",
      "and  |  CCONJ\n",
      "chief  |  ADJ\n",
      "executive  |  ADJ\n",
      "officer  |  NOUN\n",
      "of  |  ADP\n",
      "Microsoft  |  PROPN\n",
      "We  |  PRON\n",
      "remain  |  VERB\n",
      "focused  |  ADJ\n",
      "on  |  ADP\n",
      "leading  |  VERB\n",
      "the  |  DET\n",
      "new  |  ADJ\n",
      "AI  |  PROPN\n",
      "platform  |  NOUN\n",
      "shift  |  NOUN\n",
      "helping  |  VERB\n",
      "customers  |  NOUN\n",
      "use  |  VERB\n",
      "the  |  DET\n",
      "Microsoft  |  PROPN\n",
      "Cloud  |  PROPN\n",
      "to  |  PART\n",
      "get  |  VERB\n",
      "the  |  DET\n",
      "most  |  ADJ\n",
      "value  |  NOUN\n",
      "out  |  ADP\n",
      "of  |  ADP\n",
      "their  |  PRON\n",
      "digital  |  ADJ\n",
      "spend  |  NOUN\n",
      "and  |  CCONJ\n",
      "driving  |  VERB\n",
      "operating  |  NOUN\n",
      "leverage  |  NOUN\n"
     ]
    }
   ],
   "source": [
    "doc = nlp(news)\n",
    "filtered_text = []\n",
    "for token in doc:\n",
    "    if token.pos_ not in [\"SPACE\", \"PUNCT\",\"X\"]:\n",
    "        filtered_text.append(token.text)\n",
    "        print(token, \" | \", token.pos_)"
   ]
  },
  {
   "cell_type": "code",
   "execution_count": 74,
   "id": "7f53182a-6dda-49c3-9fea-500188613042",
   "metadata": {},
   "outputs": [],
   "source": [
    "# creating a new doc after removing all those irrelevant items:\n",
    "# filtered_text\n",
    "# type(filtered_text[0])\n",
    "clean_news = ' '.join(filtered_text)"
   ]
  },
  {
   "cell_type": "code",
   "execution_count": 75,
   "id": "ff6b425d-9a7d-4a09-93ef-779bbe75e06f",
   "metadata": {},
   "outputs": [
    {
     "data": {
      "text/plain": [
       "'REDMOND Wash. July 25 2023 Microsoft Corp. today announced the following results for the quarter ended June 30 2023 as compared to the corresponding period of last fiscal year test Revenue was $ 56.2 billion and increased 8 % up 10 % in constant currency Operating income was $ 24.3 billion and increased 18 % up 21 % in constant currency Net income was $ 20.1 billion and increased 20 % up 23 % in constant currency Diluted earnings per share was $ 2.69 and increased 21 % up 23 % in constant currency Organizations are asking not only how but how fast they can apply this next generation of AI to address the biggest opportunities and challenges they face safely and responsibly said Satya Nadella chairman and chief executive officer of Microsoft We remain focused on leading the new AI platform shift helping customers use the Microsoft Cloud to get the most value out of their digital spend and driving operating leverage'"
      ]
     },
     "execution_count": 75,
     "metadata": {},
     "output_type": "execute_result"
    }
   ],
   "source": [
    "clean_news"
   ]
  },
  {
   "cell_type": "code",
   "execution_count": 78,
   "id": "e8cea8a6-0d43-4c3f-b93f-5eaec7f8d8a5",
   "metadata": {},
   "outputs": [
    {
     "data": {
      "text/plain": [
       "{96: 14,\n",
       " 93: 19,\n",
       " 92: 34,\n",
       " 100: 22,\n",
       " 90: 8,\n",
       " 85: 13,\n",
       " 98: 3,\n",
       " 84: 16,\n",
       " 87: 6,\n",
       " 99: 4,\n",
       " 89: 9,\n",
       " 86: 8,\n",
       " 94: 3,\n",
       " 95: 4}"
      ]
     },
     "execution_count": 78,
     "metadata": {},
     "output_type": "execute_result"
    }
   ],
   "source": [
    "# counting the different part of speech in the text:\n",
    "doc2 = nlp(clean_news)\n",
    "count = doc2.count_by(spacy.attrs.POS)\n",
    "count"
   ]
  },
  {
   "cell_type": "code",
   "execution_count": 79,
   "id": "d31a2d1c-4a23-4a99-97f9-d58b81bd620b",
   "metadata": {},
   "outputs": [
    {
     "name": "stdout",
     "output_type": "stream",
     "text": [
      "PROPN  |  14\n",
      "NUM  |  19\n",
      "NOUN  |  34\n",
      "VERB  |  22\n",
      "DET  |  8\n",
      "ADP  |  13\n",
      "SCONJ  |  3\n",
      "ADJ  |  16\n",
      "AUX  |  6\n",
      "SYM  |  4\n",
      "CCONJ  |  9\n",
      "ADV  |  8\n",
      "PART  |  3\n",
      "PRON  |  4\n"
     ]
    }
   ],
   "source": [
    "# getting the count of the different parts of speech in the news \n",
    "for key, value in count.items():\n",
    "    print(doc.vocab[key].text,\" | \",  value)"
   ]
  },
  {
   "cell_type": "code",
   "execution_count": null,
   "id": "3de55654-a253-4110-9f60-fdce246a1525",
   "metadata": {},
   "outputs": [],
   "source": []
  },
  {
   "cell_type": "code",
   "execution_count": null,
   "id": "f6f1b491-b0a8-478e-b21d-4471988c62de",
   "metadata": {},
   "outputs": [],
   "source": []
  },
  {
   "cell_type": "markdown",
   "id": "15e6ea4d-8722-47e0-8a8d-27ef51faf556",
   "metadata": {},
   "source": [
    "# Exercise"
   ]
  },
  {
   "cell_type": "markdown",
   "id": "c86ba8ed-8e20-47fa-847e-0d0a1274ba48",
   "metadata": {},
   "source": [
    "# Exercise for Spacy POS tutorial,\n",
    "\n",
    "**1.** You are parsing a news story from cnbc.com. News story is stores in ```news_story.txt``` which is available in this same folder. You need to,\n",
    "\n",
    "**i.** Extract all NOUN tokens from this story. You will have to read the file in python first to collect all the text and then extract NOUNs in a python list\n",
    "\n",
    "**ii.** Extract all numbers (NUM POS type) in a python list\n",
    "\n",
    "**iii.** Print a count of all POS tags in this story"
   ]
  },
  {
   "cell_type": "code",
   "execution_count": 102,
   "id": "a1cb0b87-c3fc-44af-b2de-eeb29c34c375",
   "metadata": {},
   "outputs": [],
   "source": [
    "import pandas as pd"
   ]
  },
  {
   "cell_type": "code",
   "execution_count": 103,
   "id": "592adf6f-b695-4b4f-b8f4-a00edc3fc4de",
   "metadata": {},
   "outputs": [],
   "source": [
    "# open the file in read mode:\n",
    "news_file = open(\"news_story.txt\", 'r')"
   ]
  },
  {
   "cell_type": "code",
   "execution_count": 104,
   "id": "05517c32-1496-4bd6-b1a1-17afe5b21cca",
   "metadata": {},
   "outputs": [
    {
     "data": {
      "text/plain": [
       "'Inflation rose again in April, continuing a climb that has pushed consumers to the brink and is threatening the economic expansion, the Bureau of Labor Statistics reported Wednesday.\\n\\nThe consumer price index, a broad-based measure of prices for goods and services, increased 8.3% from a year ago, higher than the Dow Jones estimate for an 8.1% gain. That represented a slight ease from March’s peak but was still close to the highest level since the summer of 1982.\\n\\nRemoving volatile food and energy prices, so-called core CPI still rose 6.2%, against expectations for a 6% gain, clouding hopes that inflation had peaked in March.\\n\\nThe month-over-month gains also were higher than expectations — 0.3% on headline CPI versus the 0.2% estimate and a 0.6% increase for core, against the outlook for a 0.4% gain.\\n\\nThe price gains also meant that workers continued to lose ground. Real wages adjusted for inflation decreased 0.1% on the month despite a nominal increase of 0.3% in average hourly earnings. Over the past year, real earnings have dropped 2.6% even though average hourly earnings are up 5.5%.\\n\\nInflation has been the single biggest threat to a recovery that began early in the Covid pandemic and saw the economy in 2021 stage its biggest single-year growth level since 1984. Rising prices at the pump and in grocery stores have been one problem, but inflation has spread beyond those two areas into housing, auto sales and a host of other areas.\\n\\nFederal Reserve officials have responded to the problem with two interest rate hikes so far this year and pledges of more until inflation comes down to the central bank’s 2% goal. However, Wednesday’s data shows that the Fed has a big job ahead.\\n\\nCredits: cnbc.com'"
      ]
     },
     "execution_count": 104,
     "metadata": {},
     "output_type": "execute_result"
    }
   ],
   "source": [
    "# reading the content of the file.\n",
    "content = news_file.read()\n",
    "news_file.close() # closing the opened file.\n",
    "content"
   ]
  },
  {
   "cell_type": "code",
   "execution_count": null,
   "id": "058eae12-6eb5-41ed-8661-866fe47ff722",
   "metadata": {},
   "outputs": [],
   "source": []
  },
  {
   "cell_type": "code",
   "execution_count": 105,
   "id": "873c4764-c33a-4e8d-af06-e8e58d321893",
   "metadata": {},
   "outputs": [],
   "source": [
    "# Extracting all the nouns- pos from the content:"
   ]
  },
  {
   "cell_type": "code",
   "execution_count": 108,
   "id": "cb00c5e2-0776-4b89-968b-974bfa9e043a",
   "metadata": {},
   "outputs": [],
   "source": [
    "# first of all let's creat a pipeline for the language processing using spacy\n",
    "# and importing the pre-trained linguistic model:\n",
    "import spacy\n",
    "nlp = spacy.load(\"en_core_web_sm\") # loading the pre_trained pipeline"
   ]
  },
  {
   "cell_type": "code",
   "execution_count": 109,
   "id": "39940547-8775-43b0-8416-8043b729031d",
   "metadata": {},
   "outputs": [],
   "source": [
    "# passing the data through the pipeline:\n",
    "doc = nlp(content)"
   ]
  },
  {
   "cell_type": "code",
   "execution_count": 121,
   "id": "aa36a90b-6dcf-4de8-9e9e-21499aeaaadf",
   "metadata": {},
   "outputs": [],
   "source": [
    "proper_noun = []\n",
    "nums = []\n",
    "\n",
    "for token in doc:\n",
    "    if token.pos_ is \"PROPN\":\n",
    "        proper_noun.append(token)\n",
    "    if token.pos_ is \"NUM\":\n",
    "        nums.append(token) "
   ]
  },
  {
   "cell_type": "code",
   "execution_count": 124,
   "id": "574d6d83-285b-4dc7-8d03-a9a2dace3754",
   "metadata": {},
   "outputs": [
    {
     "data": {
      "text/plain": [
       "[April,\n",
       " Bureau,\n",
       " Labor,\n",
       " Statistics,\n",
       " Wednesday,\n",
       " Dow,\n",
       " Jones,\n",
       " March,\n",
       " CPI,\n",
       " March,\n",
       " CPI,\n",
       " Covid,\n",
       " Federal,\n",
       " Reserve,\n",
       " Wednesday,\n",
       " Fed]"
      ]
     },
     "execution_count": 124,
     "metadata": {},
     "output_type": "execute_result"
    }
   ],
   "source": [
    "proper_noun"
   ]
  },
  {
   "cell_type": "code",
   "execution_count": 126,
   "id": "6d5c8b87-c675-4cb4-a3dd-1abb264f3163",
   "metadata": {},
   "outputs": [
    {
     "data": {
      "text/plain": [
       "{92: 96,\n",
       " 100: 27,\n",
       " 86: 15,\n",
       " 85: 39,\n",
       " 96: 16,\n",
       " 97: 32,\n",
       " 90: 34,\n",
       " 95: 4,\n",
       " 87: 13,\n",
       " 89: 10,\n",
       " 84: 23,\n",
       " 103: 7,\n",
       " 93: 19,\n",
       " 94: 4,\n",
       " 98: 8,\n",
       " 101: 1}"
      ]
     },
     "execution_count": 126,
     "metadata": {},
     "output_type": "execute_result"
    }
   ],
   "source": [
    "# printing the count of alll the different parts of speech:\n",
    "count = doc.count_by(spacy.attrs.POS)\n",
    "count"
   ]
  },
  {
   "cell_type": "code",
   "execution_count": 131,
   "id": "08033e6e-514a-40e1-8c68-8ab350675600",
   "metadata": {},
   "outputs": [
    {
     "name": "stdout",
     "output_type": "stream",
     "text": [
      "NOUN  |  96\n",
      "VERB  |  27\n",
      "ADV  |  15\n",
      "ADP  |  39\n",
      "PROPN  |  16\n",
      "PUNCT  |  32\n",
      "DET  |  34\n",
      "PRON  |  4\n",
      "AUX  |  13\n",
      "CCONJ  |  10\n",
      "ADJ  |  23\n",
      "SPACE  |  7\n",
      "NUM  |  19\n",
      "PART  |  4\n",
      "SCONJ  |  8\n",
      "X  |  1\n"
     ]
    }
   ],
   "source": [
    "for key, value in count.items():\n",
    "    print(doc.vocab[key].text8, \" | \",  value)"
   ]
  },
  {
   "cell_type": "code",
   "execution_count": null,
   "id": "08f91946-81dd-4adc-a675-35e7c182c588",
   "metadata": {},
   "outputs": [],
   "source": []
  }
 ],
 "metadata": {
  "kernelspec": {
   "display_name": "Python 3 (ipykernel)",
   "language": "python",
   "name": "python3"
  },
  "language_info": {
   "codemirror_mode": {
    "name": "ipython",
    "version": 3
   },
   "file_extension": ".py",
   "mimetype": "text/x-python",
   "name": "python",
   "nbconvert_exporter": "python",
   "pygments_lexer": "ipython3",
   "version": "3.11.4"
  }
 },
 "nbformat": 4,
 "nbformat_minor": 5
}
