{
 "cells": [
  {
   "cell_type": "code",
   "execution_count": null,
   "id": "87ac1ab3-d69c-4785-9331-eba25bec7953",
   "metadata": {},
   "outputs": [],
   "source": []
  },
  {
   "cell_type": "markdown",
   "id": "31ea8557-518c-4b92-b864-9db61d156a70",
   "metadata": {},
   "source": [
    "```Steps involved:-```\n",
    "1. Data acquisition -: bringing the data\n",
    "2. Text Preprocessing -: \n",
    "2.1. Text cleanup -: removing useless things\n",
    "2.2. Basic preprocessing  \n",
    "2.3. Advance preprocessing \n",
    "3. Feature Engineering -: Text to numbers(bag of words, tfidf)\n",
    "4. Modelling\n",
    "4.1. Model building -: acutual algorithm apply.\n",
    "4.2 Evaluation\n",
    "5. Deployment\n",
    "5.1 Monitoring\n",
    "5.2 Model Update"
   ]
  },
  {
   "cell_type": "markdown",
   "id": "b044d2bb-35f0-4916-9814-93dcb497dc1c",
   "metadata": {},
   "source": [
    "```1. Data Acquisition```"
   ]
  },
  {
   "cell_type": "code",
   "execution_count": null,
   "id": "e2ce8a9a-4664-4909-bcdf-d5c3888d3d8b",
   "metadata": {},
   "outputs": [],
   "source": []
  }
 ],
 "metadata": {
  "kernelspec": {
   "display_name": "Python 3 (ipykernel)",
   "language": "python",
   "name": "python3"
  },
  "language_info": {
   "codemirror_mode": {
    "name": "ipython",
    "version": 3
   },
   "file_extension": ".py",
   "mimetype": "text/x-python",
   "name": "python",
   "nbconvert_exporter": "python",
   "pygments_lexer": "ipython3",
   "version": "3.11.4"
  }
 },
 "nbformat": 4,
 "nbformat_minor": 5
}
