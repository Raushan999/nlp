{
 "cells": [
  {
   "cell_type": "markdown",
   "id": "affd770d-8b14-4093-bb8e-112ceeb7f2ff",
   "metadata": {},
   "source": [
    "## Named Entity Recognition"
   ]
  },
  {
   "cell_type": "markdown",
   "id": "143b6576-ae37-480f-915f-8f3177429bb2",
   "metadata": {},
   "source": [
    "1. finding what the text is telling about\n",
    "2. finding whom the text is targetting.."
   ]
  },
  {
   "cell_type": "code",
   "execution_count": 1,
   "id": "92dbe552-889d-4d7e-a66b-5a3513e2ed44",
   "metadata": {},
   "outputs": [],
   "source": [
    "import spacy\n",
    "nlp = spacy.load(\"en_core_web_sm\")"
   ]
  },
  {
   "cell_type": "code",
   "execution_count": 2,
   "id": "2338bcad-c79b-4915-b94a-f1d07dda3dff",
   "metadata": {},
   "outputs": [
    {
     "data": {
      "text/plain": [
       "['tok2vec', 'tagger', 'parser', 'attribute_ruler', 'lemmatizer', 'ner']"
      ]
     },
     "execution_count": 2,
     "metadata": {},
     "output_type": "execute_result"
    }
   ],
   "source": [
    "nlp.pipe_names"
   ]
  },
  {
   "cell_type": "code",
   "execution_count": 27,
   "id": "aaae9064-7e50-4199-ad86-132a18cd2875",
   "metadata": {},
   "outputs": [
    {
     "name": "stdout",
     "output_type": "stream",
     "text": [
      "Tesla Inc  |  ORG Companies, agencies, institutions, etc.\n",
      "$45 billion  |  MONEY Monetary values, including unit\n",
      "July 24, 2023  |  DATE Absolute or relative dates or periods\n",
      "London  |  GPE Countries, cities, states\n"
     ]
    }
   ],
   "source": [
    "text = \"Tesla Inc is going to acquire twitter for $45 billion on July 24, 2023 in London\"\n",
    "doc = nlp(text)\n",
    "for ent in doc.ents:\n",
    "    print(ent, \" | \", ent.label_, spacy.explain(ent.label_))"
   ]
  },
  {
   "cell_type": "code",
   "execution_count": 28,
   "id": "fab68a7a-8bab-4cdd-a85a-a69499b4e600",
   "metadata": {},
   "outputs": [
    {
     "data": {
      "text/html": [
       "<span class=\"tex2jax_ignore\"><div class=\"entities\" style=\"line-height: 2.5; direction: ltr\">\n",
       "<mark class=\"entity\" style=\"background: #7aecec; padding: 0.45em 0.6em; margin: 0 0.25em; line-height: 1; border-radius: 0.35em;\">\n",
       "    Tesla Inc\n",
       "    <span style=\"font-size: 0.8em; font-weight: bold; line-height: 1; border-radius: 0.35em; vertical-align: middle; margin-left: 0.5rem\">ORG</span>\n",
       "</mark>\n",
       " is going to acquire twitter for \n",
       "<mark class=\"entity\" style=\"background: #e4e7d2; padding: 0.45em 0.6em; margin: 0 0.25em; line-height: 1; border-radius: 0.35em;\">\n",
       "    $45 billion\n",
       "    <span style=\"font-size: 0.8em; font-weight: bold; line-height: 1; border-radius: 0.35em; vertical-align: middle; margin-left: 0.5rem\">MONEY</span>\n",
       "</mark>\n",
       " on \n",
       "<mark class=\"entity\" style=\"background: #bfe1d9; padding: 0.45em 0.6em; margin: 0 0.25em; line-height: 1; border-radius: 0.35em;\">\n",
       "    July 24, 2023\n",
       "    <span style=\"font-size: 0.8em; font-weight: bold; line-height: 1; border-radius: 0.35em; vertical-align: middle; margin-left: 0.5rem\">DATE</span>\n",
       "</mark>\n",
       " in \n",
       "<mark class=\"entity\" style=\"background: #feca74; padding: 0.45em 0.6em; margin: 0 0.25em; line-height: 1; border-radius: 0.35em;\">\n",
       "    London\n",
       "    <span style=\"font-size: 0.8em; font-weight: bold; line-height: 1; border-radius: 0.35em; vertical-align: middle; margin-left: 0.5rem\">GPE</span>\n",
       "</mark>\n",
       "</div></span>"
      ],
      "text/plain": [
       "<IPython.core.display.HTML object>"
      ]
     },
     "metadata": {},
     "output_type": "display_data"
    }
   ],
   "source": [
    "# visually render the same thing.\n",
    "from spacy import displacy\n",
    "displacy.render(doc, style = \"ent\")"
   ]
  },
  {
   "cell_type": "code",
   "execution_count": 29,
   "id": "7e4d4d51-00ca-4a94-9675-e5525b13c2b8",
   "metadata": {},
   "outputs": [
    {
     "data": {
      "text/plain": [
       "['CARDINAL',\n",
       " 'DATE',\n",
       " 'EVENT',\n",
       " 'FAC',\n",
       " 'GPE',\n",
       " 'LANGUAGE',\n",
       " 'LAW',\n",
       " 'LOC',\n",
       " 'MONEY',\n",
       " 'NORP',\n",
       " 'ORDINAL',\n",
       " 'ORG',\n",
       " 'PERCENT',\n",
       " 'PERSON',\n",
       " 'PRODUCT',\n",
       " 'QUANTITY',\n",
       " 'TIME',\n",
       " 'WORK_OF_ART']"
      ]
     },
     "execution_count": 29,
     "metadata": {},
     "output_type": "execute_result"
    }
   ],
   "source": [
    "# Getting all the entities that spacy support\n",
    "nlp.pipe_labels['ner']"
   ]
  },
  {
   "cell_type": "markdown",
   "id": "3d0c4e2f-64b3-4e7d-950d-10f694cc6f29",
   "metadata": {},
   "source": [
    "### According to our domain, we can customize how the `ner` works"
   ]
  },
  {
   "cell_type": "code",
   "execution_count": 38,
   "id": "e984115a-bf2d-41c2-b178-c825328db0ad",
   "metadata": {},
   "outputs": [
    {
     "data": {
      "text/plain": [
       "(Tesla, twitter)"
      ]
     },
     "execution_count": 38,
     "metadata": {},
     "output_type": "execute_result"
    }
   ],
   "source": [
    "doc[0:1], doc[6:7]"
   ]
  },
  {
   "cell_type": "code",
   "execution_count": 36,
   "id": "cab9bf67-784c-4e34-82f3-f9f9a9700530",
   "metadata": {},
   "outputs": [],
   "source": [
    "# sometimes the named entitiy recognition doesnot tag the token correctly or miss them.\n",
    "# so we can use our own custom entity recognition methods to a word or span of word\n",
    "from spacy.tokens import Span\n",
    "s1 = Span(doc, 0, 1, label = \"NGO\")\n",
    "s2 = Span(doc, 6, 7, label = \"Puppet of Musk\")\n",
    "doc.set_ents([s1, s2], default = \"unmodified\") # keeping others same\n"
   ]
  },
  {
   "cell_type": "code",
   "execution_count": 37,
   "id": "92f00648-7066-410f-b8c0-c79ed0453935",
   "metadata": {},
   "outputs": [
    {
     "name": "stdout",
     "output_type": "stream",
     "text": [
      "Tesla  |  NGO\n",
      "Inc  |  ORG\n",
      "twitter  |  Puppet of Musk\n",
      "$45 billion  |  MONEY\n",
      "July 24, 2023  |  DATE\n",
      "London  |  GPE\n"
     ]
    }
   ],
   "source": [
    "for ent in doc.ents:\n",
    "    print(ent.text, \" | \", ent.label_)"
   ]
  },
  {
   "cell_type": "markdown",
   "id": "44b7921b-3c69-4879-989f-7b9494318d7f",
   "metadata": {},
   "source": [
    "## similarly we can use resume parser using ner technique"
   ]
  },
  {
   "cell_type": "code",
   "execution_count": null,
   "id": "a425e51a-56e6-4334-913f-c9586c6a13a8",
   "metadata": {},
   "outputs": [],
   "source": []
  },
  {
   "cell_type": "code",
   "execution_count": null,
   "id": "2953b473-9f62-4847-8394-e8502ddedd3d",
   "metadata": {},
   "outputs": [],
   "source": []
  },
  {
   "cell_type": "markdown",
   "id": "4fd087e5-d5c8-41bb-815a-224e3a222eb4",
   "metadata": {},
   "source": [
    "# Exercises"
   ]
  },
  {
   "cell_type": "markdown",
   "id": "724df06d-3a6f-4087-9f7e-3fd2a1e5cc23",
   "metadata": {},
   "source": [
    "## Excersie: 1\n",
    "* Extract all the Geographical (cities, Countries, states) names from a given text"
   ]
  },
  {
   "cell_type": "code",
   "execution_count": 40,
   "id": "b368fcb0-10b9-4d31-9dfe-86707762278e",
   "metadata": {},
   "outputs": [],
   "source": [
    "text = \"\"\"Kiran want to know the famous foods in each state of India. So, he opened Google and search for this question. Google showed that\n",
    "in Delhi it is Chaat, in Gujarat it is Dal Dhokli, in Tamilnadu it is Pongal, in Andhrapradesh it is Biryani, in Assam it is Papaya Khar,\n",
    "in Bihar it is Litti Chowkha and so on for all other states\"\"\""
   ]
  },
  {
   "cell_type": "code",
   "execution_count": 52,
   "id": "20e27e1f-271b-47df-abfd-af3913d37e0b",
   "metadata": {},
   "outputs": [
    {
     "data": {
      "text/plain": [
       "[India, Delhi, Gujarat, Tamilnadu, Pongal, Andhrapradesh, Assam, Bihar]"
      ]
     },
     "execution_count": 52,
     "metadata": {},
     "output_type": "execute_result"
    }
   ],
   "source": [
    "doc2 = nlp(text)\n",
    "locations = []\n",
    "for ent in doc2.ents:\n",
    "    # print(ent.text, ent.label_)\n",
    "    if ent.label_ == \"GPE\":\n",
    "        locations.append(ent)\n",
    "locations       "
   ]
  },
  {
   "cell_type": "markdown",
   "id": "0329cb5d-b9a8-448f-a71e-9daf109bbcd9",
   "metadata": {},
   "source": [
    "## Excersie: 2\n",
    "* Extract all the birth dates of cricketers in the given Text"
   ]
  },
  {
   "cell_type": "code",
   "execution_count": 56,
   "id": "71b76172-88e6-4de5-9a68-94504ccf7116",
   "metadata": {},
   "outputs": [],
   "source": [
    "text = \"\"\"Sachin Tendulkar was born on 24 April 1973, Virat Kholi was born on 5 November 1988, Dhoni was born on 7 July 1981\n",
    "and finally Ricky ponting was born on 19 December 1974.\"\"\""
   ]
  },
  {
   "cell_type": "code",
   "execution_count": 58,
   "id": "214aa496-ff66-4e84-8c3b-2c5077a59876",
   "metadata": {},
   "outputs": [
    {
     "data": {
      "text/plain": [
       "[24 April 1973, 5 November 1988, 7 July 1981, 19 December 1974]"
      ]
     },
     "execution_count": 58,
     "metadata": {},
     "output_type": "execute_result"
    }
   ],
   "source": [
    "doc3 = nlp(text)\n",
    "dates = []\n",
    "for ent in doc3.ents:\n",
    "    if ent.label_ == \"DATE\":\n",
    "        dates.append(ent)\n",
    "dates"
   ]
  },
  {
   "cell_type": "code",
   "execution_count": null,
   "id": "0cc6e899-477d-4624-8ee8-8ea4506e514c",
   "metadata": {},
   "outputs": [],
   "source": []
  }
 ],
 "metadata": {
  "kernelspec": {
   "display_name": "Python 3 (ipykernel)",
   "language": "python",
   "name": "python3"
  },
  "language_info": {
   "codemirror_mode": {
    "name": "ipython",
    "version": 3
   },
   "file_extension": ".py",
   "mimetype": "text/x-python",
   "name": "python",
   "nbconvert_exporter": "python",
   "pygments_lexer": "ipython3",
   "version": "3.11.4"
  }
 },
 "nbformat": 4,
 "nbformat_minor": 5
}
